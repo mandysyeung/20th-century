{
 "cells": [
  {
   "cell_type": "code",
   "execution_count": 1,
   "id": "f03dac34-cf1b-4e27-9e29-b93d0cd84ff2",
   "metadata": {
    "tags": []
   },
   "outputs": [],
   "source": [
    "# Import necessary libraries\n",
    "from selenium import webdriver\n",
    "from webdriver_manager.chrome import ChromeDriverManager\n",
    "from selenium.webdriver.chrome.service import Service"
   ]
  },
  {
   "cell_type": "code",
   "execution_count": 3,
   "id": "4cdda2e3-01e1-4637-8b5c-7301213547ca",
   "metadata": {
    "tags": []
   },
   "outputs": [],
   "source": [
    "# Install and set up ChromeDriver\n",
    "service = Service(ChromeDriverManager().install())"
   ]
  },
  {
   "cell_type": "code",
   "execution_count": 9,
   "id": "c8947222-aebc-431b-9f25-3fa9bdb9457e",
   "metadata": {
    "tags": []
   },
   "outputs": [],
   "source": [
    "# Define Chrome options\n",
    "chrome_options = webdriver.ChromeOptions()\n",
    "chrome_options.add_argument(\"--headless\")  \n",
    "chrome_options.add_argument(\"--no-sandbox\")  \n",
    "chrome_options.add_argument(\"--disable-dev-shm-usage\")  "
   ]
  },
  {
   "cell_type": "code",
   "execution_count": 11,
   "id": "67b6a2ca-b87a-430d-87a1-7ee75c8a3786",
   "metadata": {
    "tags": []
   },
   "outputs": [],
   "source": [
    "# Initialize the WebDriver with service and options\n",
    "driver = webdriver.Chrome(service=service, options=chrome_options)"
   ]
  },
  {
   "cell_type": "code",
   "execution_count": 15,
   "id": "4e1b2a49-789a-444a-999a-45d29d9e9d36",
   "metadata": {
    "tags": []
   },
   "outputs": [],
   "source": [
    "# Define the URL of the page to scrape\n",
    "url = 'https://en.wikipedia.org/wiki/Key_events_of_the_20th_century'"
   ]
  },
  {
   "cell_type": "code",
   "execution_count": 17,
   "id": "ca703024-04ad-4930-959d-9117ed4edc1e",
   "metadata": {
    "tags": []
   },
   "outputs": [],
   "source": [
    "# Open the webpage\n",
    "driver.get(url)"
   ]
  },
  {
   "cell_type": "code",
   "execution_count": 25,
   "id": "35873cc1-9012-47b4-9604-3c51978ae338",
   "metadata": {
    "tags": []
   },
   "outputs": [],
   "source": [
    "from selenium import webdriver\n",
    "from webdriver_manager.chrome import ChromeDriverManager\n",
    "from selenium.webdriver.chrome.service import Service\n",
    "from selenium.webdriver.common.by import By  # Import By class\n",
    "from selenium.webdriver.chrome.options import Options\n",
    "import time"
   ]
  },
  {
   "cell_type": "code",
   "execution_count": 27,
   "id": "b7bafe4f-47fe-4f02-85ab-99219b92291a",
   "metadata": {
    "tags": []
   },
   "outputs": [],
   "source": [
    "page_content = driver.find_element(By.TAG_NAME, 'body').text"
   ]
  },
  {
   "cell_type": "code",
   "execution_count": 29,
   "id": "81d4dc4b-a682-40ea-8ce3-e3e177cde130",
   "metadata": {
    "tags": []
   },
   "outputs": [],
   "source": [
    "# Save the scraped content to a text file\n",
    "with open('key_events_20th_century.txt', 'w', encoding='utf-8') as file:\n",
    "    file.write(page_content)"
   ]
  },
  {
   "cell_type": "code",
   "execution_count": 31,
   "id": "90d8945a-967f-44a2-a284-706519ec7dbd",
   "metadata": {
    "tags": []
   },
   "outputs": [
    {
     "name": "stdout",
     "output_type": "stream",
     "text": [
      "C:\\Users\\msyeu\n"
     ]
    }
   ],
   "source": [
    "import os\n",
    "print(os.getcwd())"
   ]
  },
  {
   "cell_type": "code",
   "execution_count": null,
   "id": "736c4def-6c8f-43d0-b9f2-fe0ec6efa5e2",
   "metadata": {},
   "outputs": [],
   "source": []
  }
 ],
 "metadata": {
  "kernelspec": {
   "display_name": "Python 3 (ipykernel)",
   "language": "python",
   "name": "python3"
  },
  "language_info": {
   "codemirror_mode": {
    "name": "ipython",
    "version": 3
   },
   "file_extension": ".py",
   "mimetype": "text/x-python",
   "name": "python",
   "nbconvert_exporter": "python",
   "pygments_lexer": "ipython3",
   "version": "3.11.7"
  }
 },
 "nbformat": 4,
 "nbformat_minor": 5
}
